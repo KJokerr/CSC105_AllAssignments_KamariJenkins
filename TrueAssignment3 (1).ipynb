{
 "cells": [
  {
   "cell_type": "code",
   "execution_count": 2,
   "id": "1b31fd9d-1b8d-429f-8811-b96bcee61ecb",
   "metadata": {
    "tags": []
   },
   "outputs": [],
   "source": [
    "import pandas as pd\n",
    "from matplotlib import pyplot as plt"
   ]
  },
  {
   "cell_type": "code",
   "execution_count": 4,
   "id": "74dde441-c487-4fe8-abd9-3aa577f1420c",
   "metadata": {
    "tags": []
   },
   "outputs": [
    {
     "data": {
      "text/html": [
       "<div>\n",
       "<style scoped>\n",
       "    .dataframe tbody tr th:only-of-type {\n",
       "        vertical-align: middle;\n",
       "    }\n",
       "\n",
       "    .dataframe tbody tr th {\n",
       "        vertical-align: top;\n",
       "    }\n",
       "\n",
       "    .dataframe thead th {\n",
       "        text-align: right;\n",
       "    }\n",
       "</style>\n",
       "<table border=\"1\" class=\"dataframe\">\n",
       "  <thead>\n",
       "    <tr style=\"text-align: right;\">\n",
       "      <th></th>\n",
       "      <th>Month</th>\n",
       "      <th>AA</th>\n",
       "      <th>AS</th>\n",
       "      <th>B6</th>\n",
       "      <th>DL</th>\n",
       "      <th>EV</th>\n",
       "      <th>F9</th>\n",
       "      <th>HA</th>\n",
       "      <th>MQ</th>\n",
       "      <th>NK</th>\n",
       "      <th>OO</th>\n",
       "      <th>UA</th>\n",
       "      <th>US</th>\n",
       "      <th>VX</th>\n",
       "      <th>WN</th>\n",
       "    </tr>\n",
       "  </thead>\n",
       "  <tbody>\n",
       "    <tr>\n",
       "      <th>0</th>\n",
       "      <td>1</td>\n",
       "      <td>6.955843</td>\n",
       "      <td>-0.320888</td>\n",
       "      <td>7.347281</td>\n",
       "      <td>-2.043847</td>\n",
       "      <td>8.537497</td>\n",
       "      <td>18.357238</td>\n",
       "      <td>3.512640</td>\n",
       "      <td>18.164974</td>\n",
       "      <td>11.398054</td>\n",
       "      <td>10.889894</td>\n",
       "      <td>6.352729</td>\n",
       "      <td>3.107457</td>\n",
       "      <td>1.420702</td>\n",
       "      <td>3.389466</td>\n",
       "    </tr>\n",
       "    <tr>\n",
       "      <th>1</th>\n",
       "      <td>2</td>\n",
       "      <td>7.530204</td>\n",
       "      <td>-0.782923</td>\n",
       "      <td>18.657673</td>\n",
       "      <td>5.614745</td>\n",
       "      <td>10.417236</td>\n",
       "      <td>27.424179</td>\n",
       "      <td>6.029967</td>\n",
       "      <td>21.301627</td>\n",
       "      <td>16.474466</td>\n",
       "      <td>9.588895</td>\n",
       "      <td>7.260662</td>\n",
       "      <td>7.114455</td>\n",
       "      <td>7.784410</td>\n",
       "      <td>3.501363</td>\n",
       "    </tr>\n",
       "    <tr>\n",
       "      <th>2</th>\n",
       "      <td>3</td>\n",
       "      <td>6.693587</td>\n",
       "      <td>-0.544731</td>\n",
       "      <td>10.741317</td>\n",
       "      <td>2.077965</td>\n",
       "      <td>6.730101</td>\n",
       "      <td>20.074855</td>\n",
       "      <td>3.468383</td>\n",
       "      <td>11.018418</td>\n",
       "      <td>10.039118</td>\n",
       "      <td>3.181693</td>\n",
       "      <td>4.892212</td>\n",
       "      <td>3.330787</td>\n",
       "      <td>5.348207</td>\n",
       "      <td>3.263341</td>\n",
       "    </tr>\n",
       "    <tr>\n",
       "      <th>3</th>\n",
       "      <td>4</td>\n",
       "      <td>4.931778</td>\n",
       "      <td>-3.009003</td>\n",
       "      <td>2.780105</td>\n",
       "      <td>0.083343</td>\n",
       "      <td>4.821253</td>\n",
       "      <td>12.640440</td>\n",
       "      <td>0.011022</td>\n",
       "      <td>5.131228</td>\n",
       "      <td>8.766224</td>\n",
       "      <td>3.223796</td>\n",
       "      <td>4.376092</td>\n",
       "      <td>2.660290</td>\n",
       "      <td>0.995507</td>\n",
       "      <td>2.996399</td>\n",
       "    </tr>\n",
       "    <tr>\n",
       "      <th>4</th>\n",
       "      <td>5</td>\n",
       "      <td>5.173878</td>\n",
       "      <td>-1.716398</td>\n",
       "      <td>-0.709019</td>\n",
       "      <td>0.149333</td>\n",
       "      <td>7.724290</td>\n",
       "      <td>13.007554</td>\n",
       "      <td>0.826426</td>\n",
       "      <td>5.466790</td>\n",
       "      <td>22.397347</td>\n",
       "      <td>4.141162</td>\n",
       "      <td>6.827695</td>\n",
       "      <td>0.681605</td>\n",
       "      <td>7.102021</td>\n",
       "      <td>5.680777</td>\n",
       "    </tr>\n",
       "  </tbody>\n",
       "</table>\n",
       "</div>"
      ],
      "text/plain": [
       "   Month        AA        AS         B6        DL         EV         F9  \\\n",
       "0      1  6.955843 -0.320888   7.347281 -2.043847   8.537497  18.357238   \n",
       "1      2  7.530204 -0.782923  18.657673  5.614745  10.417236  27.424179   \n",
       "2      3  6.693587 -0.544731  10.741317  2.077965   6.730101  20.074855   \n",
       "3      4  4.931778 -3.009003   2.780105  0.083343   4.821253  12.640440   \n",
       "4      5  5.173878 -1.716398  -0.709019  0.149333   7.724290  13.007554   \n",
       "\n",
       "         HA         MQ         NK         OO        UA        US        VX  \\\n",
       "0  3.512640  18.164974  11.398054  10.889894  6.352729  3.107457  1.420702   \n",
       "1  6.029967  21.301627  16.474466   9.588895  7.260662  7.114455  7.784410   \n",
       "2  3.468383  11.018418  10.039118   3.181693  4.892212  3.330787  5.348207   \n",
       "3  0.011022   5.131228   8.766224   3.223796  4.376092  2.660290  0.995507   \n",
       "4  0.826426   5.466790  22.397347   4.141162  6.827695  0.681605  7.102021   \n",
       "\n",
       "         WN  \n",
       "0  3.389466  \n",
       "1  3.501363  \n",
       "2  3.263341  \n",
       "3  2.996399  \n",
       "4  5.680777  "
      ]
     },
     "execution_count": 4,
     "metadata": {},
     "output_type": "execute_result"
    }
   ],
   "source": [
    "df = pd.read_csv(\"data/flight_delays.csv\")\n",
    "\n",
    "df.head()"
   ]
  },
  {
   "cell_type": "code",
   "execution_count": 6,
   "id": "3aed0d53-232c-40d3-8530-4eeb94218e3d",
   "metadata": {
    "tags": []
   },
   "outputs": [
    {
     "data": {
      "text/plain": [
       "Index(['Month', 'AA', 'AS', 'B6', 'DL', 'EV', 'F9', 'HA', 'MQ', 'NK', 'OO',\n",
       "       'UA', 'US', 'VX', 'WN'],\n",
       "      dtype='object')"
      ]
     },
     "execution_count": 6,
     "metadata": {},
     "output_type": "execute_result"
    }
   ],
   "source": [
    "df.columns"
   ]
  },
  {
   "cell_type": "code",
   "execution_count": 30,
   "id": "e60a3a6a-f911-4042-b02a-838c2f2b3f15",
   "metadata": {
    "tags": []
   },
   "outputs": [
    {
     "data": {
      "text/plain": [
       "0      1\n",
       "1      2\n",
       "2      3\n",
       "3      4\n",
       "4      5\n",
       "5      6\n",
       "6      7\n",
       "7      8\n",
       "8      9\n",
       "9     10\n",
       "10    11\n",
       "11    12\n",
       "Name: Month, dtype: int64"
      ]
     },
     "execution_count": 30,
     "metadata": {},
     "output_type": "execute_result"
    }
   ],
   "source": [
    "df['Month']"
   ]
  },
  {
   "cell_type": "code",
   "execution_count": 32,
   "id": "8e5cc9d6-a96c-4868-a47f-6a857c1c1ef4",
   "metadata": {
    "tags": []
   },
   "outputs": [
    {
     "data": {
      "text/plain": [
       "0     11.398054\n",
       "1     16.474466\n",
       "2     10.039118\n",
       "3      8.766224\n",
       "4     22.397347\n",
       "5     35.561501\n",
       "6     14.352382\n",
       "7     20.519018\n",
       "8      8.000101\n",
       "9      6.810736\n",
       "10     7.543881\n",
       "11    12.733123\n",
       "Name: NK, dtype: float64"
      ]
     },
     "execution_count": 32,
     "metadata": {},
     "output_type": "execute_result"
    }
   ],
   "source": [
    "df['NK']"
   ]
  },
  {
   "cell_type": "code",
   "execution_count": 33,
   "id": "0563f06b-aa91-426c-893c-f8578c15af71",
   "metadata": {
    "tags": []
   },
   "outputs": [
    {
     "data": {
      "image/png": "[encoded data removed]",
      "text/plain": [
       "<Figure size 640x480 with 1 Axes>"
      ]
     },
     "metadata": {},
     "output_type": "display_data"
    }
   ],
   "source": [
    "Month = df['Month']\n",
    "Arrival_Delay = df['NK']\n",
    "\n",
    "plt.bar(Month, Arrival_Delay)\n",
    "plt.show()"
   ]
  },
  {
   "cell_type": "code",
   "execution_count": 17,
   "id": "5d341a1d-27e5-4ea1-a264-8975397ef5ba",
   "metadata": {
    "tags": []
   },
   "outputs": [
    {
     "data": {
      "text/plain": [
       "0    11.398054\n",
       "1    16.474466\n",
       "2    10.039118\n",
       "3     8.766224\n",
       "4    22.397347\n",
       "Name: NK, dtype: float64"
      ]
     },
     "execution_count": 17,
     "metadata": {},
     "output_type": "execute_result"
    }
   ],
   "source": [
    "Arrival_Delay.head()"
   ]
  },
  {
   "cell_type": "code",
   "execution_count": 34,
   "id": "ec13c46b-2f96-425f-9d20-87acf1abd500",
   "metadata": {
    "tags": []
   },
   "outputs": [
    {
     "data": {
      "image/png": "[encoded data removed]",
      "text/plain": [
       "<Figure size 640x480 with 1 Axes>"
      ]
     },
     "metadata": {},
     "output_type": "display_data"
    }
   ],
   "source": [
    "plt.bar(Month, Arrival_Delay, color=\"red\", width=0.3) \n",
    "\n",
    "plt.title(\"Average Arrival Delay for Spirit Airlines Flights, by Months\")\n",
    "plt.xlabel(\"Month\")\n",
    "plt.ylabel(\"Arrival Delay(in minutes)\")\n",
    "\n",
    "plt.show()"
   ]
  },
  {
   "cell_type": "code",
   "execution_count": 23,
   "id": "5c8ffac7-696a-4d25-8571-5998c2838252",
   "metadata": {
    "tags": []
   },
   "outputs": [
    {
     "data": {
      "text/html": [
       "<div>\n",
       "<style scoped>\n",
       "    .dataframe tbody tr th:only-of-type {\n",
       "        vertical-align: middle;\n",
       "    }\n",
       "\n",
       "    .dataframe tbody tr th {\n",
       "        vertical-align: top;\n",
       "    }\n",
       "\n",
       "    .dataframe thead th {\n",
       "        text-align: right;\n",
       "    }\n",
       "</style>\n",
       "<table border=\"1\" class=\"dataframe\">\n",
       "  <thead>\n",
       "    <tr style=\"text-align: right;\">\n",
       "      <th></th>\n",
       "      <th>trip_duration</th>\n",
       "      <th>distance_traveled</th>\n",
       "      <th>num_of_passengers</th>\n",
       "      <th>fare</th>\n",
       "      <th>tip</th>\n",
       "      <th>miscellaneous_fees</th>\n",
       "      <th>total_fare</th>\n",
       "      <th>surge_applied</th>\n",
       "    </tr>\n",
       "  </thead>\n",
       "  <tbody>\n",
       "    <tr>\n",
       "      <th>0</th>\n",
       "      <td>748.0</td>\n",
       "      <td>2.75</td>\n",
       "      <td>1.0</td>\n",
       "      <td>75.00</td>\n",
       "      <td>24</td>\n",
       "      <td>6.300</td>\n",
       "      <td>105.300</td>\n",
       "      <td>0</td>\n",
       "    </tr>\n",
       "    <tr>\n",
       "      <th>1</th>\n",
       "      <td>1187.0</td>\n",
       "      <td>3.43</td>\n",
       "      <td>1.0</td>\n",
       "      <td>105.00</td>\n",
       "      <td>24</td>\n",
       "      <td>13.200</td>\n",
       "      <td>142.200</td>\n",
       "      <td>0</td>\n",
       "    </tr>\n",
       "    <tr>\n",
       "      <th>2</th>\n",
       "      <td>730.0</td>\n",
       "      <td>3.12</td>\n",
       "      <td>1.0</td>\n",
       "      <td>71.25</td>\n",
       "      <td>0</td>\n",
       "      <td>26.625</td>\n",
       "      <td>97.875</td>\n",
       "      <td>1</td>\n",
       "    </tr>\n",
       "    <tr>\n",
       "      <th>3</th>\n",
       "      <td>671.0</td>\n",
       "      <td>5.63</td>\n",
       "      <td>3.0</td>\n",
       "      <td>90.00</td>\n",
       "      <td>0</td>\n",
       "      <td>9.750</td>\n",
       "      <td>99.750</td>\n",
       "      <td>0</td>\n",
       "    </tr>\n",
       "    <tr>\n",
       "      <th>4</th>\n",
       "      <td>329.0</td>\n",
       "      <td>2.09</td>\n",
       "      <td>1.0</td>\n",
       "      <td>45.00</td>\n",
       "      <td>12</td>\n",
       "      <td>13.200</td>\n",
       "      <td>70.200</td>\n",
       "      <td>0</td>\n",
       "    </tr>\n",
       "  </tbody>\n",
       "</table>\n",
       "</div>"
      ],
      "text/plain": [
       "   trip_duration  distance_traveled  num_of_passengers    fare  tip  \\\n",
       "0          748.0               2.75                1.0   75.00   24   \n",
       "1         1187.0               3.43                1.0  105.00   24   \n",
       "2          730.0               3.12                1.0   71.25    0   \n",
       "3          671.0               5.63                3.0   90.00    0   \n",
       "4          329.0               2.09                1.0   45.00   12   \n",
       "\n",
       "   miscellaneous_fees  total_fare  surge_applied  \n",
       "0               6.300     105.300              0  \n",
       "1              13.200     142.200              0  \n",
       "2              26.625      97.875              1  \n",
       "3               9.750      99.750              0  \n",
       "4              13.200      70.200              0  "
      ]
     },
     "execution_count": 23,
     "metadata": {},
     "output_type": "execute_result"
    }
   ],
   "source": [
    "df2 = pd.read_csv(\"data/taxi_trip.csv\")\n",
    "\n",
    "df2.head()"
   ]
  },
  {
   "cell_type": "code",
   "execution_count": 24,
   "id": "e37b76b2-b626-461f-96af-a1a618c08381",
   "metadata": {
    "tags": []
   },
   "outputs": [
    {
     "data": {
      "text/plain": [
       "Index(['trip_duration', 'distance_traveled', 'num_of_passengers', 'fare',\n",
       "       'tip', 'miscellaneous_fees', 'total_fare', 'surge_applied'],\n",
       "      dtype='object')"
      ]
     },
     "execution_count": 24,
     "metadata": {},
     "output_type": "execute_result"
    }
   ],
   "source": [
    "df2.columns"
   ]
  },
  {
   "cell_type": "code",
   "execution_count": 36,
   "id": "f0596f30-2c88-4ce2-ad3e-9c27118601e4",
   "metadata": {
    "tags": []
   },
   "outputs": [
    {
     "data": {
      "text/plain": [
       "0     748.0\n",
       "1    1187.0\n",
       "2     730.0\n",
       "3     671.0\n",
       "4     329.0\n",
       "Name: trip_duration, dtype: float64"
      ]
     },
     "execution_count": 36,
     "metadata": {},
     "output_type": "execute_result"
    }
   ],
   "source": [
    "df2['trip_duration'].head()"
   ]
  },
  {
   "cell_type": "code",
   "execution_count": 26,
   "id": "d4e702bc-3020-4392-ada6-422fd19343b0",
   "metadata": {
    "tags": []
   },
   "outputs": [
    {
     "data": {
      "text/plain": [
       "0    24\n",
       "1    24\n",
       "2     0\n",
       "3     0\n",
       "4    12\n",
       "Name: tip, dtype: int64"
      ]
     },
     "execution_count": 26,
     "metadata": {},
     "output_type": "execute_result"
    }
   ],
   "source": [
    "df2['tip'].head()"
   ]
  },
  {
   "cell_type": "code",
   "execution_count": 42,
   "id": "aa609e28-d655-484d-a3a3-15c622c23f9f",
   "metadata": {
    "tags": []
   },
   "outputs": [],
   "source": [
    "trip_duration = df2['trip_duration'].head()\n",
    "tip = df2['tip'].head()\n"
   ]
  },
  {
   "cell_type": "code",
   "execution_count": 55,
   "id": "cbc3b2cd-7b41-4153-9375-1b3ffd533b2f",
   "metadata": {
    "tags": []
   },
   "outputs": [
    {
     "data": {
      "image/png": "[encoded data removed]",
      "text/plain": [
       "<Figure size 640x480 with 1 Axes>"
      ]
     },
     "metadata": {},
     "output_type": "display_data"
    }
   ],
   "source": [
    "plt.plot(trip_duration, tip,color=\"r\", linestyle=\"--\",marker=\"o\", linewidth=2, label= \"Tips Received\")\n",
    "plt.plot(trip_duration, total_fare,color=\"b\", linestyle=':',marker=\".\", linewidth=2, label= \"Total Fare\")\n",
    "\n",
    "plt.title(\"Total Fare vs Tips Received by Trip Duration\")\n",
    "plt.xlabel(\"Trip Duration\")\n",
    "plt.ylabel(\"in USD\")\n",
    "\n",
    "plt.legend()\n",
    "plt.show()"
   ]
  },
  {
   "cell_type": "code",
   "execution_count": 44,
   "id": "4cf39c0b-c5dd-4015-8c7e-f65b97a0c5db",
   "metadata": {
    "tags": []
   },
   "outputs": [
    {
     "data": {
      "text/plain": [
       "0    105.300\n",
       "1    142.200\n",
       "2     97.875\n",
       "3     99.750\n",
       "4     70.200\n",
       "Name: total_fare, dtype: float64"
      ]
     },
     "execution_count": 44,
     "metadata": {},
     "output_type": "execute_result"
    }
   ],
   "source": [
    "df2['total_fare'].head()\n"
   ]
  },
  {
   "cell_type": "code",
   "execution_count": 45,
   "id": "d6bdad41-54cb-4d76-8f7f-395017e6e452",
   "metadata": {
    "tags": []
   },
   "outputs": [],
   "source": [
    "total_fare = df2['total_fare'].head()"
   ]
  },
  {
   "cell_type": "code",
   "execution_count": 1,
   "id": "d70f3526-235e-4c58-b03d-c05f2b6efbcd",
   "metadata": {},
   "outputs": [],
   "source": [
    "##For the first bar, it's clear that the arrival delay is at it's highest at 6 months and at it's lowest during the 10th month. As for the second, the graph gets a little crazy so it is difficult to tell.\n"
   ]
  },
  {
   "cell_type": "code",
   "execution_count": null,
   "id": "24baf483-1e07-42b1-8251-7b80804f23f8",
   "metadata": {},
   "outputs": [],
   "source": []
  }
 ],
 "metadata": {
  "kernelspec": {
   "display_name": "Python 3 (ipykernel)",
   "language": "python",
   "name": "python3"
  },
  "language_info": {
   "codemirror_mode": {
    "name": "ipython",
    "version": 3
   },
   "file_extension": ".py",
   "mimetype": "text/x-python",
   "name": "python",
   "nbconvert_exporter": "python",
   "pygments_lexer": "ipython3",
   "version": "3.11.4"
  }
 },
 "nbformat": 4,
 "nbformat_minor": 5
}
